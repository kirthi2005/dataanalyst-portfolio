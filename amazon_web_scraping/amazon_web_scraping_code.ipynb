{
 "cells": [
  {
   "cell_type": "code",
   "execution_count": 2,
   "id": "cb6fe3fd",
   "metadata": {},
   "outputs": [],
   "source": [
    "from bs4 import BeautifulSoup\n",
    "import requests\n",
    "import smtplib\n",
    "import time\n",
    "import datetime\n"
   ]
  },
  {
   "cell_type": "code",
   "execution_count": 3,
   "id": "94785d2a",
   "metadata": {},
   "outputs": [],
   "source": [
    "url = 'https://www.amazon.com/Data-Systems-Business-Analyst-T-Shirt/dp/B0B8Q8XWRH/ref=sr_1_6?crid=1JZOP85FVQ4Q2&dib=eyJ2IjoiMSJ9.gu4anNhkrmJyTCjvBM5Ts6kxApiQXg1cG6rWd0NyBH-6H-H7Qx4wlcFIp9Dhe7U5Qgctzn9iDHaevEj3d8vEss29TWwWc9VY0W-0i8WorWv_x5jG7lyNNNi52Wi3MD0M-OC0lpMUuAkfBR6M7iX9PWkziVJEVE6_jZ36Qb2PAu5GZ6x25DfKLzJBCClYQsc6y6hXOdaaZwZvYo4FE8jQ7RPPpIKHrfaHcrUEk77YRnG_0wHu95xMCVgXe4LPYYt6a8XQyivOGX9k1ckiXCkkeXSEapDEtaA9NLiJjtIl0Q0.1-RPTKaYocNNAShUlmxRABflroMWFyW-tgRsiRfE12g&dib_tag=se&keywords=data+analyst+tshirt+got+data%3F&qid=1755978877&sprefix=data+analyst+tshirt+got+data+%2Caps%2C110&sr=8-6'"
   ]
  }
 ],
 "metadata": {
  "kernelspec": {
   "display_name": "Python 3",
   "language": "python",
   "name": "python3"
  },
  "language_info": {
   "codemirror_mode": {
    "name": "ipython",
    "version": 3
   },
   "file_extension": ".py",
   "mimetype": "text/x-python",
   "name": "python",
   "nbconvert_exporter": "python",
   "pygments_lexer": "ipython3",
   "version": "3.13.3"
  }
 },
 "nbformat": 4,
 "nbformat_minor": 5
}
