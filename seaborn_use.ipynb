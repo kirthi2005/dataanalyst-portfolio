{
 "cells": [
  {
   "cell_type": "code",
   "execution_count": 1,
   "id": "0b0af70c",
   "metadata": {},
   "outputs": [
    {
     "name": "stdout",
     "output_type": "stream",
     "text": [
      "Name: seaborn\n",
      "Version: 0.13.2\n",
      "Summary: Statistical data visualization\n",
      "Home-page: \n",
      "Author: \n",
      "Author-email: Michael Waskom <mwaskom@gmail.com>\n",
      "License: \n",
      "Location: c:\\Users\\karth\\AppData\\Local\\Programs\\Python\\Python313\\Lib\\site-packages\n",
      "Requires: matplotlib, numpy, pandas\n",
      "Required-by: \n",
      "Note: you may need to restart the kernel to use updated packages.\n"
     ]
    },
    {
     "name": "stderr",
     "output_type": "stream",
     "text": [
      "\n",
      "[notice] A new release of pip is available: 25.0.1 -> 25.2\n",
      "[notice] To update, run: python.exe -m pip install --upgrade pip\n"
     ]
    },
    {
     "name": "stdout",
     "output_type": "stream",
     "text": [
      "Requirement already satisfied: seaborn in c:\\users\\karth\\appdata\\local\\programs\\python\\python313\\lib\\site-packages (0.13.2)\n",
      "Requirement already satisfied: numpy!=1.24.0,>=1.20 in c:\\users\\karth\\appdata\\local\\programs\\python\\python313\\lib\\site-packages (from seaborn) (2.2.6)\n",
      "Requirement already satisfied: pandas>=1.2 in c:\\users\\karth\\appdata\\local\\programs\\python\\python313\\lib\\site-packages (from seaborn) (2.2.3)\n",
      "Requirement already satisfied: matplotlib!=3.6.1,>=3.4 in c:\\users\\karth\\appdata\\local\\programs\\python\\python313\\lib\\site-packages (from seaborn) (3.10.3)\n",
      "Requirement already satisfied: contourpy>=1.0.1 in c:\\users\\karth\\appdata\\local\\programs\\python\\python313\\lib\\site-packages (from matplotlib!=3.6.1,>=3.4->seaborn) (1.3.2)\n",
      "Requirement already satisfied: cycler>=0.10 in c:\\users\\karth\\appdata\\local\\programs\\python\\python313\\lib\\site-packages (from matplotlib!=3.6.1,>=3.4->seaborn) (0.12.1)\n",
      "Requirement already satisfied: fonttools>=4.22.0 in c:\\users\\karth\\appdata\\local\\programs\\python\\python313\\lib\\site-packages (from matplotlib!=3.6.1,>=3.4->seaborn) (4.58.0)\n",
      "Requirement already satisfied: kiwisolver>=1.3.1 in c:\\users\\karth\\appdata\\local\\programs\\python\\python313\\lib\\site-packages (from matplotlib!=3.6.1,>=3.4->seaborn) (1.4.8)\n",
      "Requirement already satisfied: packaging>=20.0 in c:\\users\\karth\\appdata\\local\\programs\\python\\python313\\lib\\site-packages (from matplotlib!=3.6.1,>=3.4->seaborn) (25.0)\n",
      "Requirement already satisfied: pillow>=8 in c:\\users\\karth\\appdata\\local\\programs\\python\\python313\\lib\\site-packages (from matplotlib!=3.6.1,>=3.4->seaborn) (11.2.1)\n",
      "Requirement already satisfied: pyparsing>=2.3.1 in c:\\users\\karth\\appdata\\local\\programs\\python\\python313\\lib\\site-packages (from matplotlib!=3.6.1,>=3.4->seaborn) (3.2.3)\n",
      "Requirement already satisfied: python-dateutil>=2.7 in c:\\users\\karth\\appdata\\local\\programs\\python\\python313\\lib\\site-packages (from matplotlib!=3.6.1,>=3.4->seaborn) (2.9.0.post0)\n",
      "Requirement already satisfied: pytz>=2020.1 in c:\\users\\karth\\appdata\\local\\programs\\python\\python313\\lib\\site-packages (from pandas>=1.2->seaborn) (2025.2)\n",
      "Requirement already satisfied: tzdata>=2022.7 in c:\\users\\karth\\appdata\\local\\programs\\python\\python313\\lib\\site-packages (from pandas>=1.2->seaborn) (2025.2)\n",
      "Requirement already satisfied: six>=1.5 in c:\\users\\karth\\appdata\\local\\programs\\python\\python313\\lib\\site-packages (from python-dateutil>=2.7->matplotlib!=3.6.1,>=3.4->seaborn) (1.17.0)\n",
      "Note: you may need to restart the kernel to use updated packages.\n"
     ]
    }
   ],
   "source": [
    "%pip show seaborn\n",
    "%pip install seaborn\n",
    "import seaborn as sns\n",
    "import pandas as pd\n",
    "import requests\n",
    "import matplotlib.pyplot as plt\n",
    "import numpy as np"
   ]
  },
  {
   "cell_type": "code",
   "execution_count": 2,
   "id": "adeb4c59",
   "metadata": {},
   "outputs": [
    {
     "name": "stderr",
     "output_type": "stream",
     "text": [
      "C:\\Users\\karth\\AppData\\Local\\Temp\\ipykernel_19956\\236404410.py:1: DtypeWarning: Columns (0) have mixed types. Specify dtype option on import or set low_memory=False.\n",
      "  df = pd.read_csv('mortality_rate.csv')\n"
     ]
    },
    {
     "data": {
      "application/vnd.microsoft.datawrangler.viewer.v0+json": {
       "columns": [
        {
         "name": "index",
         "rawType": "int64",
         "type": "integer"
        },
        {
         "name": "Year",
         "rawType": "object",
         "type": "unknown"
        },
        {
         "name": "State",
         "rawType": "object",
         "type": "string"
        },
        {
         "name": "CountyName",
         "rawType": "object",
         "type": "string"
        },
        {
         "name": "Category",
         "rawType": "object",
         "type": "string"
        },
        {
         "name": "DataValue",
         "rawType": "float64",
         "type": "float"
        },
        {
         "name": "DataValueUnit",
         "rawType": "object",
         "type": "string"
        },
        {
         "name": "DataValueType",
         "rawType": "object",
         "type": "string"
        },
        {
         "name": "ConfidenceLimitLow",
         "rawType": "float64",
         "type": "float"
        },
        {
         "name": "ConfidenceLimitHigh",
         "rawType": "float64",
         "type": "float"
        },
        {
         "name": "AgeGroup",
         "rawType": "object",
         "type": "string"
        },
        {
         "name": "Race",
         "rawType": "object",
         "type": "string"
        },
        {
         "name": "Sex",
         "rawType": "object",
         "type": "string"
        },
        {
         "name": "LocationId",
         "rawType": "int64",
         "type": "integer"
        }
       ],
       "ref": "a1ab549e-712a-43e2-bf26-08d6fdcc6c03",
       "rows": [
        [
         "0",
         "2016",
         "AL",
         "Autauga",
         "All stroke",
         "25.7",
         "per 100,000",
         "Age-Standardized, Spatiotemporally Smoothed Rate",
         "21.3",
         "30.9",
         "Ages 35-64 years",
         "Overall",
         "Overall",
         "1001"
        ],
        [
         "1",
         "2011",
         "AL",
         "Autauga",
         "All stroke",
         "29.5",
         "per 100,000",
         "Age-Standardized, Spatiotemporally Smoothed Rate",
         "22.9",
         "39.7",
         "Ages 35-64 years",
         "Overall",
         "Men",
         "1001"
        ],
        [
         "2",
         "2017",
         "AL",
         "Autauga",
         "All stroke",
         "33.6",
         "per 100,000",
         "Age-Standardized, Spatiotemporally Smoothed Rate",
         "25.4",
         "44.1",
         "Ages 35-64 years",
         "Overall",
         "Men",
         "1001"
        ],
        [
         "3",
         "2017",
         "AL",
         "Autauga",
         "All heart disease",
         "128.7",
         "per 100,000",
         "Age-Standardized, Spatiotemporally Smoothed Rate",
         "113.1",
         "144.7",
         "Ages 35-64 years",
         "Overall",
         "Overall",
         "1001"
        ],
        [
         "4",
         "2016",
         "AL",
         "Autauga",
         "All heart disease",
         "128.1",
         "per 100,000",
         "Age-Standardized, Spatiotemporally Smoothed Rate",
         "114.1",
         "145.5",
         "Ages 35-64 years",
         "Overall",
         "Overall",
         "1001"
        ],
        [
         "5",
         "2019",
         "AL",
         "Autauga",
         "All heart disease",
         "122.6",
         "per 100,000",
         "Age-Standardized, Spatiotemporally Smoothed Rate",
         "106.4",
         "143.4",
         "Ages 35-64 years",
         "Overall",
         "Overall",
         "1001"
        ],
        [
         "6",
         "2006",
         "AL",
         "Autauga",
         "All heart disease",
         "164.0",
         "per 100,000",
         "Age-Standardized, Spatiotemporally Smoothed Rate",
         "142.5",
         "194.0",
         "Ages 35-64 years",
         "Overall",
         "Overall",
         "1001"
        ],
        [
         "7",
         "2003",
         "AL",
         "Autauga",
         "All heart disease",
         "159.6",
         "per 100,000",
         "Age-Standardized, Spatiotemporally Smoothed Rate",
         "137.4",
         "189.5",
         "Ages 35-64 years",
         "Overall",
         "Overall",
         "1001"
        ],
        [
         "8",
         "2018",
         "AL",
         "Autauga",
         "All heart disease",
         "126.5",
         "per 100,000",
         "Age-Standardized, Spatiotemporally Smoothed Rate",
         "109.0",
         "145.1",
         "Ages 35-64 years",
         "Overall",
         "Overall",
         "1001"
        ],
        [
         "9",
         "2005",
         "AL",
         "Autauga",
         "All heart disease",
         "168.9",
         "per 100,000",
         "Age-Standardized, Spatiotemporally Smoothed Rate",
         "145.5",
         "195.2",
         "Ages 35-64 years",
         "Overall",
         "Overall",
         "1001"
        ],
        [
         "10",
         "2007",
         "AL",
         "Autauga",
         "All heart disease",
         "148.3",
         "per 100,000",
         "Age-Standardized, Spatiotemporally Smoothed Rate",
         "130.2",
         "170.0",
         "Ages 35-64 years",
         "Overall",
         "Overall",
         "1001"
        ],
        [
         "11",
         "2013",
         "AL",
         "Autauga",
         "All heart disease",
         "144.3",
         "per 100,000",
         "Age-Standardized, Spatiotemporally Smoothed Rate",
         "124.9",
         "166.6",
         "Ages 35-64 years",
         "Overall",
         "Overall",
         "1001"
        ],
        [
         "12",
         "2014",
         "AL",
         "Autauga",
         "All heart disease",
         "131.0",
         "per 100,000",
         "Age-Standardized, Spatiotemporally Smoothed Rate",
         "113.6",
         "152.9",
         "Ages 35-64 years",
         "Overall",
         "Overall",
         "1001"
        ],
        [
         "13",
         "2002",
         "AL",
         "Autauga",
         "All heart disease",
         "151.0",
         "per 100,000",
         "Age-Standardized, Spatiotemporally Smoothed Rate",
         "126.5",
         "177.6",
         "Ages 35-64 years",
         "Overall",
         "Overall",
         "1001"
        ],
        [
         "14",
         "2004",
         "AL",
         "Autauga",
         "All heart disease",
         "163.4",
         "per 100,000",
         "Age-Standardized, Spatiotemporally Smoothed Rate",
         "142.4",
         "189.9",
         "Ages 35-64 years",
         "Overall",
         "Overall",
         "1001"
        ],
        [
         "15",
         "2008",
         "AL",
         "Autauga",
         "All heart disease",
         "151.8",
         "per 100,000",
         "Age-Standardized, Spatiotemporally Smoothed Rate",
         "133.5",
         "169.2",
         "Ages 35-64 years",
         "Overall",
         "Overall",
         "1001"
        ],
        [
         "16",
         "2015",
         "AL",
         "Autauga",
         "All heart disease",
         "128.6",
         "per 100,000",
         "Age-Standardized, Spatiotemporally Smoothed Rate",
         "113.1",
         "150.1",
         "Ages 35-64 years",
         "Overall",
         "Overall",
         "1001"
        ],
        [
         "17",
         "2000",
         "AL",
         "Autauga",
         "All heart disease",
         "160.1",
         "per 100,000",
         "Age-Standardized, Spatiotemporally Smoothed Rate",
         "131.7",
         "188.0",
         "Ages 35-64 years",
         "Overall",
         "Overall",
         "1001"
        ],
        [
         "18",
         "2001",
         "AL",
         "Autauga",
         "All heart disease",
         "153.8",
         "per 100,000",
         "Age-Standardized, Spatiotemporally Smoothed Rate",
         "130.2",
         "184.3",
         "Ages 35-64 years",
         "Overall",
         "Overall",
         "1001"
        ],
        [
         "19",
         "2011",
         "AL",
         "Autauga",
         "All heart disease",
         "146.6",
         "per 100,000",
         "Age-Standardized, Spatiotemporally Smoothed Rate",
         "127.3",
         "168.0",
         "Ages 35-64 years",
         "Overall",
         "Overall",
         "1001"
        ],
        [
         "20",
         "2009",
         "AL",
         "Autauga",
         "All heart disease",
         "153.0",
         "per 100,000",
         "Age-Standardized, Spatiotemporally Smoothed Rate",
         "133.1",
         "174.0",
         "Ages 35-64 years",
         "Overall",
         "Overall",
         "1001"
        ],
        [
         "21",
         "2012",
         "AL",
         "Autauga",
         "All heart disease",
         "140.0",
         "per 100,000",
         "Age-Standardized, Spatiotemporally Smoothed Rate",
         "121.2",
         "162.6",
         "Ages 35-64 years",
         "Overall",
         "Overall",
         "1001"
        ],
        [
         "22",
         "1999",
         "AL",
         "Autauga",
         "All heart disease",
         "155.7",
         "per 100,000",
         "Age-Standardized, Spatiotemporally Smoothed Rate",
         "126.0",
         "182.2",
         "Ages 35-64 years",
         "Overall",
         "Overall",
         "1001"
        ],
        [
         "23",
         "2010",
         "AL",
         "Autauga",
         "All heart disease",
         "148.8",
         "per 100,000",
         "Age-Standardized, Spatiotemporally Smoothed Rate",
         "129.0",
         "174.4",
         "Ages 35-64 years",
         "Overall",
         "Overall",
         "1001"
        ],
        [
         "24",
         "2006",
         "AL",
         "Autauga",
         "All stroke",
         "24.2",
         "per 100,000",
         "Age-Standardized, Spatiotemporally Smoothed Rate",
         "20.1",
         "30.2",
         "Ages 35-64 years",
         "Overall",
         "Overall",
         "1001"
        ],
        [
         "25",
         "2013",
         "AL",
         "Autauga",
         "All stroke",
         "24.1",
         "per 100,000",
         "Age-Standardized, Spatiotemporally Smoothed Rate",
         "19.3",
         "28.3",
         "Ages 35-64 years",
         "Overall",
         "Overall",
         "1001"
        ],
        [
         "26",
         "2014",
         "AL",
         "Autauga",
         "All stroke",
         "24.4",
         "per 100,000",
         "Age-Standardized, Spatiotemporally Smoothed Rate",
         "19.4",
         "28.8",
         "Ages 35-64 years",
         "Overall",
         "Overall",
         "1001"
        ],
        [
         "27",
         "2019",
         "AL",
         "Autauga",
         "All stroke",
         "28.0",
         "per 100,000",
         "Age-Standardized, Spatiotemporally Smoothed Rate",
         "22.7",
         "34.9",
         "Ages 35-64 years",
         "Overall",
         "Overall",
         "1001"
        ],
        [
         "28",
         "2003",
         "AL",
         "Autauga",
         "All stroke",
         "24.9",
         "per 100,000",
         "Age-Standardized, Spatiotemporally Smoothed Rate",
         "20.7",
         "31.9",
         "Ages 35-64 years",
         "Overall",
         "Overall",
         "1001"
        ],
        [
         "29",
         "2008",
         "AL",
         "Autauga",
         "All stroke",
         "24.6",
         "per 100,000",
         "Age-Standardized, Spatiotemporally Smoothed Rate",
         "18.6",
         "29.9",
         "Ages 35-64 years",
         "Overall",
         "Overall",
         "1001"
        ],
        [
         "30",
         "2017",
         "AL",
         "Autauga",
         "All stroke",
         "25.1",
         "per 100,000",
         "Age-Standardized, Spatiotemporally Smoothed Rate",
         "21.4",
         "29.6",
         "Ages 35-64 years",
         "Overall",
         "Overall",
         "1001"
        ],
        [
         "31",
         "2004",
         "AL",
         "Autauga",
         "All stroke",
         "24.6",
         "per 100,000",
         "Age-Standardized, Spatiotemporally Smoothed Rate",
         "20.0",
         "31.8",
         "Ages 35-64 years",
         "Overall",
         "Overall",
         "1001"
        ],
        [
         "32",
         "2007",
         "AL",
         "Autauga",
         "All stroke",
         "24.6",
         "per 100,000",
         "Age-Standardized, Spatiotemporally Smoothed Rate",
         "19.8",
         "30.2",
         "Ages 35-64 years",
         "Overall",
         "Overall",
         "1001"
        ],
        [
         "33",
         "2005",
         "AL",
         "Autauga",
         "All stroke",
         "25.3",
         "per 100,000",
         "Age-Standardized, Spatiotemporally Smoothed Rate",
         "20.9",
         "32.2",
         "Ages 35-64 years",
         "Overall",
         "Overall",
         "1001"
        ],
        [
         "34",
         "2002",
         "AL",
         "Autauga",
         "All stroke",
         "25.9",
         "per 100,000",
         "Age-Standardized, Spatiotemporally Smoothed Rate",
         "21.2",
         "32.0",
         "Ages 35-64 years",
         "Overall",
         "Overall",
         "1001"
        ],
        [
         "35",
         "2001",
         "AL",
         "Autauga",
         "All stroke",
         "24.2",
         "per 100,000",
         "Age-Standardized, Spatiotemporally Smoothed Rate",
         "19.7",
         "31.7",
         "Ages 35-64 years",
         "Overall",
         "Overall",
         "1001"
        ],
        [
         "36",
         "2015",
         "AL",
         "Autauga",
         "All stroke",
         "25.3",
         "per 100,000",
         "Age-Standardized, Spatiotemporally Smoothed Rate",
         "21.2",
         "31.1",
         "Ages 35-64 years",
         "Overall",
         "Overall",
         "1001"
        ],
        [
         "37",
         "2011",
         "AL",
         "Autauga",
         "All stroke",
         "24.2",
         "per 100,000",
         "Age-Standardized, Spatiotemporally Smoothed Rate",
         "19.0",
         "28.8",
         "Ages 35-64 years",
         "Overall",
         "Overall",
         "1001"
        ],
        [
         "38",
         "2000",
         "AL",
         "Autauga",
         "All stroke",
         "24.6",
         "per 100,000",
         "Age-Standardized, Spatiotemporally Smoothed Rate",
         "19.2",
         "32.3",
         "Ages 35-64 years",
         "Overall",
         "Overall",
         "1001"
        ],
        [
         "39",
         "1999",
         "AL",
         "Autauga",
         "All stroke",
         "26.0",
         "per 100,000",
         "Age-Standardized, Spatiotemporally Smoothed Rate",
         "20.2",
         "33.3",
         "Ages 35-64 years",
         "Overall",
         "Overall",
         "1001"
        ],
        [
         "40",
         "2018",
         "AL",
         "Autauga",
         "All stroke",
         "27.1",
         "per 100,000",
         "Age-Standardized, Spatiotemporally Smoothed Rate",
         "22.9",
         "33.1",
         "Ages 35-64 years",
         "Overall",
         "Overall",
         "1001"
        ],
        [
         "41",
         "2012",
         "AL",
         "Autauga",
         "All stroke",
         "24.8",
         "per 100,000",
         "Age-Standardized, Spatiotemporally Smoothed Rate",
         "19.3",
         "30.4",
         "Ages 35-64 years",
         "Overall",
         "Overall",
         "1001"
        ],
        [
         "42",
         "2009",
         "AL",
         "Autauga",
         "All stroke",
         "24.6",
         "per 100,000",
         "Age-Standardized, Spatiotemporally Smoothed Rate",
         "19.0",
         "30.2",
         "Ages 35-64 years",
         "Overall",
         "Overall",
         "1001"
        ],
        [
         "43",
         "2010",
         "AL",
         "Autauga",
         "All stroke",
         "24.1",
         "per 100,000",
         "Age-Standardized, Spatiotemporally Smoothed Rate",
         "18.6",
         "29.3",
         "Ages 35-64 years",
         "Overall",
         "Overall",
         "1001"
        ],
        [
         "44",
         "2018",
         "AL",
         "Autauga",
         "Coronary heart disease (CHD)",
         "80.1",
         "per 100,000",
         "Age-Standardized, Spatiotemporally Smoothed Rate",
         "66.9",
         "95.1",
         "Ages 35-64 years",
         "Overall",
         "Overall",
         "1001"
        ],
        [
         "45",
         "2013",
         "AL",
         "Autauga",
         "Coronary heart disease (CHD)",
         "72.2",
         "per 100,000",
         "Age-Standardized, Spatiotemporally Smoothed Rate",
         "60.3",
         "85.0",
         "Ages 35-64 years",
         "Overall",
         "Overall",
         "1001"
        ],
        [
         "46",
         "2019",
         "AL",
         "Autauga",
         "Coronary heart disease (CHD)",
         "70.6",
         "per 100,000",
         "Age-Standardized, Spatiotemporally Smoothed Rate",
         "57.9",
         "87.0",
         "Ages 35-64 years",
         "Overall",
         "Overall",
         "1001"
        ],
        [
         "47",
         "2008",
         "AL",
         "Autauga",
         "Coronary heart disease (CHD)",
         "56.9",
         "per 100,000",
         "Age-Standardized, Spatiotemporally Smoothed Rate",
         "45.8",
         "72.8",
         "Ages 35-64 years",
         "Overall",
         "Overall",
         "1001"
        ],
        [
         "48",
         "2007",
         "AL",
         "Autauga",
         "Coronary heart disease (CHD)",
         "54.8",
         "per 100,000",
         "Age-Standardized, Spatiotemporally Smoothed Rate",
         "46.0",
         "70.3",
         "Ages 35-64 years",
         "Overall",
         "Overall",
         "1001"
        ],
        [
         "49",
         "2015",
         "AL",
         "Autauga",
         "Coronary heart disease (CHD)",
         "73.9",
         "per 100,000",
         "Age-Standardized, Spatiotemporally Smoothed Rate",
         "62.5",
         "90.1",
         "Ages 35-64 years",
         "Overall",
         "Overall",
         "1001"
        ]
       ],
       "shape": {
        "columns": 13,
        "rows": 3404765
       }
      },
      "text/html": [
       "<div>\n",
       "<style scoped>\n",
       "    .dataframe tbody tr th:only-of-type {\n",
       "        vertical-align: middle;\n",
       "    }\n",
       "\n",
       "    .dataframe tbody tr th {\n",
       "        vertical-align: top;\n",
       "    }\n",
       "\n",
       "    .dataframe thead th {\n",
       "        text-align: right;\n",
       "    }\n",
       "</style>\n",
       "<table border=\"1\" class=\"dataframe\">\n",
       "  <thead>\n",
       "    <tr style=\"text-align: right;\">\n",
       "      <th></th>\n",
       "      <th>Year</th>\n",
       "      <th>State</th>\n",
       "      <th>CountyName</th>\n",
       "      <th>Category</th>\n",
       "      <th>DataValue</th>\n",
       "      <th>DataValueUnit</th>\n",
       "      <th>DataValueType</th>\n",
       "      <th>ConfidenceLimitLow</th>\n",
       "      <th>ConfidenceLimitHigh</th>\n",
       "      <th>AgeGroup</th>\n",
       "      <th>Race</th>\n",
       "      <th>Sex</th>\n",
       "      <th>LocationId</th>\n",
       "    </tr>\n",
       "  </thead>\n",
       "  <tbody>\n",
       "    <tr>\n",
       "      <th>0</th>\n",
       "      <td>2016</td>\n",
       "      <td>AL</td>\n",
       "      <td>Autauga</td>\n",
       "      <td>All stroke</td>\n",
       "      <td>25.7</td>\n",
       "      <td>per 100,000</td>\n",
       "      <td>Age-Standardized, Spatiotemporally Smoothed Rate</td>\n",
       "      <td>21.3</td>\n",
       "      <td>30.9</td>\n",
       "      <td>Ages 35-64 years</td>\n",
       "      <td>Overall</td>\n",
       "      <td>Overall</td>\n",
       "      <td>1001</td>\n",
       "    </tr>\n",
       "    <tr>\n",
       "      <th>1</th>\n",
       "      <td>2011</td>\n",
       "      <td>AL</td>\n",
       "      <td>Autauga</td>\n",
       "      <td>All stroke</td>\n",
       "      <td>29.5</td>\n",
       "      <td>per 100,000</td>\n",
       "      <td>Age-Standardized, Spatiotemporally Smoothed Rate</td>\n",
       "      <td>22.9</td>\n",
       "      <td>39.7</td>\n",
       "      <td>Ages 35-64 years</td>\n",
       "      <td>Overall</td>\n",
       "      <td>Men</td>\n",
       "      <td>1001</td>\n",
       "    </tr>\n",
       "    <tr>\n",
       "      <th>2</th>\n",
       "      <td>2017</td>\n",
       "      <td>AL</td>\n",
       "      <td>Autauga</td>\n",
       "      <td>All stroke</td>\n",
       "      <td>33.6</td>\n",
       "      <td>per 100,000</td>\n",
       "      <td>Age-Standardized, Spatiotemporally Smoothed Rate</td>\n",
       "      <td>25.4</td>\n",
       "      <td>44.1</td>\n",
       "      <td>Ages 35-64 years</td>\n",
       "      <td>Overall</td>\n",
       "      <td>Men</td>\n",
       "      <td>1001</td>\n",
       "    </tr>\n",
       "    <tr>\n",
       "      <th>3</th>\n",
       "      <td>2017</td>\n",
       "      <td>AL</td>\n",
       "      <td>Autauga</td>\n",
       "      <td>All heart disease</td>\n",
       "      <td>128.7</td>\n",
       "      <td>per 100,000</td>\n",
       "      <td>Age-Standardized, Spatiotemporally Smoothed Rate</td>\n",
       "      <td>113.1</td>\n",
       "      <td>144.7</td>\n",
       "      <td>Ages 35-64 years</td>\n",
       "      <td>Overall</td>\n",
       "      <td>Overall</td>\n",
       "      <td>1001</td>\n",
       "    </tr>\n",
       "    <tr>\n",
       "      <th>4</th>\n",
       "      <td>2016</td>\n",
       "      <td>AL</td>\n",
       "      <td>Autauga</td>\n",
       "      <td>All heart disease</td>\n",
       "      <td>128.1</td>\n",
       "      <td>per 100,000</td>\n",
       "      <td>Age-Standardized, Spatiotemporally Smoothed Rate</td>\n",
       "      <td>114.1</td>\n",
       "      <td>145.5</td>\n",
       "      <td>Ages 35-64 years</td>\n",
       "      <td>Overall</td>\n",
       "      <td>Overall</td>\n",
       "      <td>1001</td>\n",
       "    </tr>\n",
       "    <tr>\n",
       "      <th>...</th>\n",
       "      <td>...</td>\n",
       "      <td>...</td>\n",
       "      <td>...</td>\n",
       "      <td>...</td>\n",
       "      <td>...</td>\n",
       "      <td>...</td>\n",
       "      <td>...</td>\n",
       "      <td>...</td>\n",
       "      <td>...</td>\n",
       "      <td>...</td>\n",
       "      <td>...</td>\n",
       "      <td>...</td>\n",
       "      <td>...</td>\n",
       "    </tr>\n",
       "    <tr>\n",
       "      <th>3404760</th>\n",
       "      <td>1999 - 2010</td>\n",
       "      <td>WY</td>\n",
       "      <td>Weston</td>\n",
       "      <td>Coronary heart disease (CHD)</td>\n",
       "      <td>-33.4</td>\n",
       "      <td>%</td>\n",
       "      <td>Total percent change</td>\n",
       "      <td>-46.3</td>\n",
       "      <td>-19.5</td>\n",
       "      <td>Ages 65 years and older</td>\n",
       "      <td>White</td>\n",
       "      <td>Overall</td>\n",
       "      <td>56045</td>\n",
       "    </tr>\n",
       "    <tr>\n",
       "      <th>3404761</th>\n",
       "      <td>2010 - 2019</td>\n",
       "      <td>WY</td>\n",
       "      <td>Weston</td>\n",
       "      <td>Cardiovascular disease (CVD)</td>\n",
       "      <td>-6.7</td>\n",
       "      <td>%</td>\n",
       "      <td>Total percent change</td>\n",
       "      <td>-20.4</td>\n",
       "      <td>5.7</td>\n",
       "      <td>Ages 65 years and older</td>\n",
       "      <td>White</td>\n",
       "      <td>Overall</td>\n",
       "      <td>56045</td>\n",
       "    </tr>\n",
       "    <tr>\n",
       "      <th>3404762</th>\n",
       "      <td>1999 - 2010</td>\n",
       "      <td>WY</td>\n",
       "      <td>Weston</td>\n",
       "      <td>Cardiovascular disease (CVD)</td>\n",
       "      <td>-31.5</td>\n",
       "      <td>%</td>\n",
       "      <td>Total percent change</td>\n",
       "      <td>-41.0</td>\n",
       "      <td>-20.4</td>\n",
       "      <td>Ages 65 years and older</td>\n",
       "      <td>White</td>\n",
       "      <td>Overall</td>\n",
       "      <td>56045</td>\n",
       "    </tr>\n",
       "    <tr>\n",
       "      <th>3404763</th>\n",
       "      <td>1999 - 2010</td>\n",
       "      <td>WY</td>\n",
       "      <td>Weston</td>\n",
       "      <td>Heart failure</td>\n",
       "      <td>-20.0</td>\n",
       "      <td>%</td>\n",
       "      <td>Total percent change</td>\n",
       "      <td>-41.7</td>\n",
       "      <td>-2.9</td>\n",
       "      <td>Ages 65 years and older</td>\n",
       "      <td>White</td>\n",
       "      <td>Overall</td>\n",
       "      <td>56045</td>\n",
       "    </tr>\n",
       "    <tr>\n",
       "      <th>3404764</th>\n",
       "      <td>2010 - 2019</td>\n",
       "      <td>WY</td>\n",
       "      <td>Weston</td>\n",
       "      <td>Heart failure</td>\n",
       "      <td>-1.9</td>\n",
       "      <td>%</td>\n",
       "      <td>Total percent change</td>\n",
       "      <td>-23.0</td>\n",
       "      <td>20.2</td>\n",
       "      <td>Ages 65 years and older</td>\n",
       "      <td>White</td>\n",
       "      <td>Overall</td>\n",
       "      <td>56045</td>\n",
       "    </tr>\n",
       "  </tbody>\n",
       "</table>\n",
       "<p>3404765 rows × 13 columns</p>\n",
       "</div>"
      ],
      "text/plain": [
       "                Year State CountyName                      Category  \\\n",
       "0               2016    AL    Autauga                    All stroke   \n",
       "1               2011    AL    Autauga                    All stroke   \n",
       "2               2017    AL    Autauga                    All stroke   \n",
       "3               2017    AL    Autauga             All heart disease   \n",
       "4               2016    AL    Autauga             All heart disease   \n",
       "...              ...   ...        ...                           ...   \n",
       "3404760  1999 - 2010    WY     Weston  Coronary heart disease (CHD)   \n",
       "3404761  2010 - 2019    WY     Weston  Cardiovascular disease (CVD)   \n",
       "3404762  1999 - 2010    WY     Weston  Cardiovascular disease (CVD)   \n",
       "3404763  1999 - 2010    WY     Weston                 Heart failure   \n",
       "3404764  2010 - 2019    WY     Weston                 Heart failure   \n",
       "\n",
       "         DataValue DataValueUnit  \\\n",
       "0             25.7   per 100,000   \n",
       "1             29.5   per 100,000   \n",
       "2             33.6   per 100,000   \n",
       "3            128.7   per 100,000   \n",
       "4            128.1   per 100,000   \n",
       "...            ...           ...   \n",
       "3404760      -33.4             %   \n",
       "3404761       -6.7             %   \n",
       "3404762      -31.5             %   \n",
       "3404763      -20.0             %   \n",
       "3404764       -1.9             %   \n",
       "\n",
       "                                            DataValueType  ConfidenceLimitLow  \\\n",
       "0        Age-Standardized, Spatiotemporally Smoothed Rate                21.3   \n",
       "1        Age-Standardized, Spatiotemporally Smoothed Rate                22.9   \n",
       "2        Age-Standardized, Spatiotemporally Smoothed Rate                25.4   \n",
       "3        Age-Standardized, Spatiotemporally Smoothed Rate               113.1   \n",
       "4        Age-Standardized, Spatiotemporally Smoothed Rate               114.1   \n",
       "...                                                   ...                 ...   \n",
       "3404760                              Total percent change               -46.3   \n",
       "3404761                              Total percent change               -20.4   \n",
       "3404762                              Total percent change               -41.0   \n",
       "3404763                              Total percent change               -41.7   \n",
       "3404764                              Total percent change               -23.0   \n",
       "\n",
       "         ConfidenceLimitHigh                 AgeGroup     Race      Sex  \\\n",
       "0                       30.9         Ages 35-64 years  Overall  Overall   \n",
       "1                       39.7         Ages 35-64 years  Overall      Men   \n",
       "2                       44.1         Ages 35-64 years  Overall      Men   \n",
       "3                      144.7         Ages 35-64 years  Overall  Overall   \n",
       "4                      145.5         Ages 35-64 years  Overall  Overall   \n",
       "...                      ...                      ...      ...      ...   \n",
       "3404760                -19.5  Ages 65 years and older    White  Overall   \n",
       "3404761                  5.7  Ages 65 years and older    White  Overall   \n",
       "3404762                -20.4  Ages 65 years and older    White  Overall   \n",
       "3404763                 -2.9  Ages 65 years and older    White  Overall   \n",
       "3404764                 20.2  Ages 65 years and older    White  Overall   \n",
       "\n",
       "         LocationId  \n",
       "0              1001  \n",
       "1              1001  \n",
       "2              1001  \n",
       "3              1001  \n",
       "4              1001  \n",
       "...             ...  \n",
       "3404760       56045  \n",
       "3404761       56045  \n",
       "3404762       56045  \n",
       "3404763       56045  \n",
       "3404764       56045  \n",
       "\n",
       "[3404765 rows x 13 columns]"
      ]
     },
     "execution_count": 2,
     "metadata": {},
     "output_type": "execute_result"
    }
   ],
   "source": [
    "df = pd.read_csv('mortality_rate.csv')\n",
    "df"
   ]
  },
  {
   "cell_type": "code",
   "execution_count": null,
   "id": "039ede42",
   "metadata": {},
   "outputs": [],
   "source": [
    "#**********************************Univariate Analysis************************************************************************"
   ]
  },
  {
   "cell_type": "code",
   "execution_count": 5,
   "id": "cf0e1dc4",
   "metadata": {},
   "outputs": [
    {
     "name": "stdout",
     "output_type": "stream",
     "text": [
      "Unique values in 'Year'\n"
     ]
    },
    {
     "data": {
      "application/vnd.microsoft.datawrangler.viewer.v0+json": {
       "columns": [
        {
         "name": "Year",
         "rawType": "object",
         "type": "unknown"
        },
        {
         "name": "count",
         "rawType": "int64",
         "type": "integer"
        }
       ],
       "ref": "94bb2096-5194-47d7-b3fd-7157e3583222",
       "rows": [
        [
         "2010 - 2019",
         "148050"
        ],
        [
         "1999 - 2010",
         "147995"
        ],
        [
         "2014",
         "146693"
        ],
        [
         "2016",
         "146692"
        ],
        [
         "2013",
         "146692"
        ],
        [
         "2018",
         "146692"
        ],
        [
         "2005",
         "146692"
        ],
        [
         "2007",
         "146692"
        ],
        [
         "2010",
         "146692"
        ],
        [
         "2015",
         "146692"
        ],
        [
         "2011",
         "146691"
        ],
        [
         "2017",
         "146691"
        ],
        [
         "2009",
         "146691"
        ],
        [
         "2008",
         "146691"
        ],
        [
         "2006",
         "146691"
        ],
        [
         "2019",
         "146691"
        ],
        [
         "2012",
         "146691"
        ],
        [
         "2003",
         "146637"
        ],
        [
         "2002",
         "146637"
        ],
        [
         "2000",
         "146636"
        ],
        [
         "1999",
         "146636"
        ],
        [
         "2004",
         "146636"
        ],
        [
         "2001",
         "146636"
        ],
        [
         "2004",
         "1359"
        ],
        [
         "2019",
         "1359"
        ],
        [
         "1999",
         "1359"
        ],
        [
         "2017",
         "1359"
        ],
        [
         "2001",
         "1359"
        ],
        [
         "2012",
         "1359"
        ],
        [
         "2000",
         "1359"
        ],
        [
         "2006",
         "1359"
        ],
        [
         "2008",
         "1359"
        ],
        [
         "2011",
         "1359"
        ],
        [
         "2009",
         "1359"
        ],
        [
         "2002",
         "1358"
        ],
        [
         "2018",
         "1358"
        ],
        [
         "2013",
         "1358"
        ],
        [
         "2010",
         "1358"
        ],
        [
         "2007",
         "1358"
        ],
        [
         "2015",
         "1358"
        ],
        [
         "2005",
         "1358"
        ],
        [
         "2016",
         "1358"
        ],
        [
         "2003",
         "1358"
        ],
        [
         "2014",
         "1357"
        ]
       ],
       "shape": {
        "columns": 1,
        "rows": 44
       }
      },
      "text/plain": [
       "Year\n",
       "2010 - 2019    148050\n",
       "1999 - 2010    147995\n",
       "2014           146693\n",
       "2016           146692\n",
       "2013           146692\n",
       "2018           146692\n",
       "2005           146692\n",
       "2007           146692\n",
       "2010           146692\n",
       "2015           146692\n",
       "2011           146691\n",
       "2017           146691\n",
       "2009           146691\n",
       "2008           146691\n",
       "2006           146691\n",
       "2019           146691\n",
       "2012           146691\n",
       "2003           146637\n",
       "2002           146637\n",
       "2000           146636\n",
       "1999           146636\n",
       "2004           146636\n",
       "2001           146636\n",
       "2004             1359\n",
       "2019             1359\n",
       "1999             1359\n",
       "2017             1359\n",
       "2001             1359\n",
       "2012             1359\n",
       "2000             1359\n",
       "2006             1359\n",
       "2008             1359\n",
       "2011             1359\n",
       "2009             1359\n",
       "2002             1358\n",
       "2018             1358\n",
       "2013             1358\n",
       "2010             1358\n",
       "2007             1358\n",
       "2015             1358\n",
       "2005             1358\n",
       "2016             1358\n",
       "2003             1358\n",
       "2014             1357\n",
       "Name: count, dtype: int64"
      ]
     },
     "metadata": {},
     "output_type": "display_data"
    },
    {
     "name": "stdout",
     "output_type": "stream",
     "text": [
      "Unique values in 'State'\n"
     ]
    },
    {
     "data": {
      "application/vnd.microsoft.datawrangler.viewer.v0+json": {
       "columns": [
        {
         "name": "State",
         "rawType": "object",
         "type": "string"
        },
        {
         "name": "count",
         "rawType": "int64",
         "type": "integer"
        }
       ],
       "ref": "c4b54f72-8d11-4727-b7b0-2c57b4539342",
       "rows": [
        [
         "TX",
         "267605"
        ],
        [
         "GA",
         "184805"
        ],
        [
         "VA",
         "154905"
        ],
        [
         "NC",
         "126500"
        ],
        [
         "KY",
         "117530"
        ],
        [
         "MO",
         "115230"
        ],
        [
         "IL",
         "109940"
        ],
        [
         "TN",
         "103155"
        ],
        [
         "OH",
         "99590"
        ],
        [
         "IN",
         "97520"
        ],
        [
         "IA",
         "96370"
        ],
        [
         "FL",
         "96140"
        ],
        [
         "MS",
         "93495"
        ],
        [
         "MI",
         "92115"
        ],
        [
         "MN",
         "89125"
        ],
        [
         "KS",
         "88090"
        ],
        [
         "OK",
         "87400"
        ],
        [
         "CA",
         "87285"
        ],
        [
         "AR",
         "81995"
        ],
        [
         "NY",
         "80730"
        ],
        [
         "AL",
         "80615"
        ],
        [
         "PA",
         "79925"
        ],
        [
         "LA",
         "78660"
        ],
        [
         "WI",
         "76360"
        ],
        [
         "NE",
         "69345"
        ],
        [
         "CO",
         "65395"
        ],
        [
         "SC",
         "60490"
        ],
        [
         "WV",
         "53475"
        ],
        [
         "WA",
         "49680"
        ],
        [
         "SD",
         "47495"
        ],
        [
         "MT",
         "42780"
        ],
        [
         "ID",
         "42550"
        ],
        [
         "OR",
         "41170"
        ],
        [
         "NM",
         "38295"
        ],
        [
         "ND",
         "37605"
        ],
        [
         "MD",
         "34040"
        ],
        [
         "NJ",
         "32775"
        ],
        [
         "UT",
         "28520"
        ],
        [
         "AZ",
         "22770"
        ],
        [
         "WY",
         "22655"
        ],
        [
         "MA",
         "20815"
        ],
        [
         "AK",
         "19205"
        ],
        [
         "NV",
         "17710"
        ],
        [
         "ME",
         "16445"
        ],
        [
         "VT",
         "13225"
        ],
        [
         "CT",
         "12535"
        ],
        [
         "NH",
         "11385"
        ],
        [
         "RI",
         "6670"
        ],
        [
         "HI",
         "6095"
        ],
        [
         "DE",
         "4830"
        ]
       ],
       "shape": {
        "columns": 1,
        "rows": 51
       }
      },
      "text/plain": [
       "State\n",
       "TX    267605\n",
       "GA    184805\n",
       "VA    154905\n",
       "NC    126500\n",
       "KY    117530\n",
       "MO    115230\n",
       "IL    109940\n",
       "TN    103155\n",
       "OH     99590\n",
       "IN     97520\n",
       "IA     96370\n",
       "FL     96140\n",
       "MS     93495\n",
       "MI     92115\n",
       "MN     89125\n",
       "KS     88090\n",
       "OK     87400\n",
       "CA     87285\n",
       "AR     81995\n",
       "NY     80730\n",
       "AL     80615\n",
       "PA     79925\n",
       "LA     78660\n",
       "WI     76360\n",
       "NE     69345\n",
       "CO     65395\n",
       "SC     60490\n",
       "WV     53475\n",
       "WA     49680\n",
       "SD     47495\n",
       "MT     42780\n",
       "ID     42550\n",
       "OR     41170\n",
       "NM     38295\n",
       "ND     37605\n",
       "MD     34040\n",
       "NJ     32775\n",
       "UT     28520\n",
       "AZ     22770\n",
       "WY     22655\n",
       "MA     20815\n",
       "AK     19205\n",
       "NV     17710\n",
       "ME     16445\n",
       "VT     13225\n",
       "CT     12535\n",
       "NH     11385\n",
       "RI      6670\n",
       "HI      6095\n",
       "DE      4830\n",
       "DC      1725\n",
       "Name: count, dtype: int64"
      ]
     },
     "metadata": {},
     "output_type": "display_data"
    },
    {
     "name": "stdout",
     "output_type": "stream",
     "text": [
      "Unique values in 'CountyName'\n"
     ]
    },
    {
     "data": {
      "application/vnd.microsoft.datawrangler.viewer.v0+json": {
       "columns": [
        {
         "name": "CountyName",
         "rawType": "object",
         "type": "string"
        },
        {
         "name": "count",
         "rawType": "int64",
         "type": "integer"
        }
       ],
       "ref": "f3364f30-69da-40c3-9b62-eb2177ffc500",
       "rows": [
        [
         "Washington",
         "35880"
        ],
        [
         "Jefferson",
         "30360"
        ],
        [
         "Franklin",
         "28290"
        ],
        [
         "Jackson",
         "25990"
        ],
        [
         "Lincoln",
         "23460"
        ],
        [
         "Montgomery",
         "22540"
        ],
        [
         "Madison",
         "22425"
        ],
        [
         "Marion",
         "19550"
        ],
        [
         "Union",
         "19550"
        ],
        [
         "Monroe",
         "19205"
        ],
        [
         "Clay",
         "18170"
        ],
        [
         "Wayne",
         "17135"
        ],
        [
         "Warren",
         "15755"
        ],
        [
         "Greene",
         "15755"
        ],
        [
         "Lake",
         "14605"
        ],
        [
         "Douglas",
         "14260"
        ],
        [
         "Lee",
         "14145"
        ],
        [
         "Polk",
         "13685"
        ],
        [
         "Johnson",
         "13455"
        ],
        [
         "Carroll",
         "13340"
        ],
        [
         "Grant",
         "13225"
        ],
        [
         "Fayette",
         "12420"
        ],
        [
         "Adams",
         "12305"
        ],
        [
         "Marshall",
         "12190"
        ],
        [
         "Clark",
         "12190"
        ],
        [
         "Calhoun",
         "11845"
        ],
        [
         "Scott",
         "11615"
        ],
        [
         "Orange",
         "11155"
        ],
        [
         "Lawrence",
         "11155"
        ],
        [
         "Morgan",
         "11040"
        ],
        [
         "Hamilton",
         "10925"
        ],
        [
         "Henry",
         "10925"
        ],
        [
         "Crawford",
         "10810"
        ],
        [
         "Hancock",
         "10350"
        ],
        [
         "Shelby",
         "10350"
        ],
        [
         "Cumberland",
         "10235"
        ],
        [
         "Pike",
         "10235"
        ],
        [
         "Benton",
         "10120"
        ],
        [
         "Cass",
         "9890"
        ],
        [
         "Putnam",
         "9775"
        ],
        [
         "Perry",
         "9660"
        ],
        [
         "Columbia",
         "9200"
        ],
        [
         "Cherokee",
         "9200"
        ],
        [
         "Jasper",
         "9085"
        ],
        [
         "Clinton",
         "9085"
        ],
        [
         "Brown",
         "8970"
        ],
        [
         "Butler",
         "8970"
        ],
        [
         "Boone",
         "8855"
        ],
        [
         "Knox",
         "8740"
        ],
        [
         "Fulton",
         "8625"
        ]
       ],
       "shape": {
        "columns": 1,
        "rows": 1800
       }
      },
      "text/plain": [
       "CountyName\n",
       "Washington            35880\n",
       "Jefferson             30360\n",
       "Franklin              28290\n",
       "Jackson               25990\n",
       "Lincoln               23460\n",
       "                      ...  \n",
       "Briscoe                 115\n",
       "Glasscock               115\n",
       "Lake and Peninsula      115\n",
       "Harding                 115\n",
       "Taliaferro              115\n",
       "Name: count, Length: 1800, dtype: int64"
      ]
     },
     "metadata": {},
     "output_type": "display_data"
    },
    {
     "name": "stdout",
     "output_type": "stream",
     "text": [
      "Unique values in 'Category'\n"
     ]
    },
    {
     "data": {
      "application/vnd.microsoft.datawrangler.viewer.v0+json": {
       "columns": [
        {
         "name": "Category",
         "rawType": "object",
         "type": "string"
        },
        {
         "name": "count",
         "rawType": "int64",
         "type": "integer"
        }
       ],
       "ref": "145a3328-03a7-45e4-9bbb-29e93a2d6478",
       "rows": [
        [
         "All stroke",
         "680953"
        ],
        [
         "All heart disease",
         "680953"
        ],
        [
         "Coronary heart disease (CHD)",
         "680953"
        ],
        [
         "Cardiovascular disease (CVD)",
         "680953"
        ],
        [
         "Heart failure",
         "680953"
        ]
       ],
       "shape": {
        "columns": 1,
        "rows": 5
       }
      },
      "text/plain": [
       "Category\n",
       "All stroke                      680953\n",
       "All heart disease               680953\n",
       "Coronary heart disease (CHD)    680953\n",
       "Cardiovascular disease (CVD)    680953\n",
       "Heart failure                   680953\n",
       "Name: count, dtype: int64"
      ]
     },
     "metadata": {},
     "output_type": "display_data"
    },
    {
     "name": "stdout",
     "output_type": "stream",
     "text": [
      "Unique values in 'State'\n"
     ]
    },
    {
     "data": {
      "application/vnd.microsoft.datawrangler.viewer.v0+json": {
       "columns": [
        {
         "name": "State",
         "rawType": "object",
         "type": "string"
        },
        {
         "name": "count",
         "rawType": "int64",
         "type": "integer"
        }
       ],
       "ref": "026eb6d9-33ea-4abe-92e9-77e2e682f2a2",
       "rows": [
        [
         "TX",
         "267605"
        ],
        [
         "GA",
         "184805"
        ],
        [
         "VA",
         "154905"
        ],
        [
         "NC",
         "126500"
        ],
        [
         "KY",
         "117530"
        ],
        [
         "MO",
         "115230"
        ],
        [
         "IL",
         "109940"
        ],
        [
         "TN",
         "103155"
        ],
        [
         "OH",
         "99590"
        ],
        [
         "IN",
         "97520"
        ],
        [
         "IA",
         "96370"
        ],
        [
         "FL",
         "96140"
        ],
        [
         "MS",
         "93495"
        ],
        [
         "MI",
         "92115"
        ],
        [
         "MN",
         "89125"
        ],
        [
         "KS",
         "88090"
        ],
        [
         "OK",
         "87400"
        ],
        [
         "CA",
         "87285"
        ],
        [
         "AR",
         "81995"
        ],
        [
         "NY",
         "80730"
        ],
        [
         "AL",
         "80615"
        ],
        [
         "PA",
         "79925"
        ],
        [
         "LA",
         "78660"
        ],
        [
         "WI",
         "76360"
        ],
        [
         "NE",
         "69345"
        ],
        [
         "CO",
         "65395"
        ],
        [
         "SC",
         "60490"
        ],
        [
         "WV",
         "53475"
        ],
        [
         "WA",
         "49680"
        ],
        [
         "SD",
         "47495"
        ],
        [
         "MT",
         "42780"
        ],
        [
         "ID",
         "42550"
        ],
        [
         "OR",
         "41170"
        ],
        [
         "NM",
         "38295"
        ],
        [
         "ND",
         "37605"
        ],
        [
         "MD",
         "34040"
        ],
        [
         "NJ",
         "32775"
        ],
        [
         "UT",
         "28520"
        ],
        [
         "AZ",
         "22770"
        ],
        [
         "WY",
         "22655"
        ],
        [
         "MA",
         "20815"
        ],
        [
         "AK",
         "19205"
        ],
        [
         "NV",
         "17710"
        ],
        [
         "ME",
         "16445"
        ],
        [
         "VT",
         "13225"
        ],
        [
         "CT",
         "12535"
        ],
        [
         "NH",
         "11385"
        ],
        [
         "RI",
         "6670"
        ],
        [
         "HI",
         "6095"
        ],
        [
         "DE",
         "4830"
        ]
       ],
       "shape": {
        "columns": 1,
        "rows": 51
       }
      },
      "text/plain": [
       "State\n",
       "TX    267605\n",
       "GA    184805\n",
       "VA    154905\n",
       "NC    126500\n",
       "KY    117530\n",
       "MO    115230\n",
       "IL    109940\n",
       "TN    103155\n",
       "OH     99590\n",
       "IN     97520\n",
       "IA     96370\n",
       "FL     96140\n",
       "MS     93495\n",
       "MI     92115\n",
       "MN     89125\n",
       "KS     88090\n",
       "OK     87400\n",
       "CA     87285\n",
       "AR     81995\n",
       "NY     80730\n",
       "AL     80615\n",
       "PA     79925\n",
       "LA     78660\n",
       "WI     76360\n",
       "NE     69345\n",
       "CO     65395\n",
       "SC     60490\n",
       "WV     53475\n",
       "WA     49680\n",
       "SD     47495\n",
       "MT     42780\n",
       "ID     42550\n",
       "OR     41170\n",
       "NM     38295\n",
       "ND     37605\n",
       "MD     34040\n",
       "NJ     32775\n",
       "UT     28520\n",
       "AZ     22770\n",
       "WY     22655\n",
       "MA     20815\n",
       "AK     19205\n",
       "NV     17710\n",
       "ME     16445\n",
       "VT     13225\n",
       "CT     12535\n",
       "NH     11385\n",
       "RI      6670\n",
       "HI      6095\n",
       "DE      4830\n",
       "DC      1725\n",
       "Name: count, dtype: int64"
      ]
     },
     "metadata": {},
     "output_type": "display_data"
    },
    {
     "name": "stdout",
     "output_type": "stream",
     "text": [
      "Unique values in 'Race'\n"
     ]
    },
    {
     "data": {
      "application/vnd.microsoft.datawrangler.viewer.v0+json": {
       "columns": [
        {
         "name": "Race",
         "rawType": "object",
         "type": "string"
        },
        {
         "name": "count",
         "rawType": "int64",
         "type": "integer"
        }
       ],
       "ref": "05ef8c70-6a69-41bb-b536-0e40642b136f",
       "rows": [
        [
         "Overall",
         "2041845"
        ],
        [
         "White",
         "690160"
        ],
        [
         "Black (Non-Hispanic)",
         "267260"
        ],
        [
         "Hispanic",
         "228665"
        ],
        [
         "Asian/Pacific Islander",
         "116460"
        ],
        [
         "American Indian/Alaska Native",
         "60375"
        ]
       ],
       "shape": {
        "columns": 1,
        "rows": 6
       }
      },
      "text/plain": [
       "Race\n",
       "Overall                          2041845\n",
       "White                             690160\n",
       "Black (Non-Hispanic)              267260\n",
       "Hispanic                          228665\n",
       "Asian/Pacific Islander            116460\n",
       "American Indian/Alaska Native      60375\n",
       "Name: count, dtype: int64"
      ]
     },
     "metadata": {},
     "output_type": "display_data"
    },
    {
     "name": "stdout",
     "output_type": "stream",
     "text": [
      "Unique values in 'AgeGroup'\n"
     ]
    },
    {
     "data": {
      "application/vnd.microsoft.datawrangler.viewer.v0+json": {
       "columns": [
        {
         "name": "AgeGroup",
         "rawType": "object",
         "type": "string"
        },
        {
         "name": "count",
         "rawType": "int64",
         "type": "integer"
        }
       ],
       "ref": "6e0bd15e-370d-4fb9-87e5-4c55c8f1d772",
       "rows": [
        [
         "Ages 35-64 years",
         "1831280"
        ],
        [
         "Ages 65 years and older",
         "1573485"
        ]
       ],
       "shape": {
        "columns": 1,
        "rows": 2
       }
      },
      "text/plain": [
       "AgeGroup\n",
       "Ages 35-64 years           1831280\n",
       "Ages 65 years and older    1573485\n",
       "Name: count, dtype: int64"
      ]
     },
     "metadata": {},
     "output_type": "display_data"
    },
    {
     "name": "stdout",
     "output_type": "stream",
     "text": [
      "Unique values in 'Sex'\n"
     ]
    },
    {
     "data": {
      "application/vnd.microsoft.datawrangler.viewer.v0+json": {
       "columns": [
        {
         "name": "Sex",
         "rawType": "object",
         "type": "string"
        },
        {
         "name": "count",
         "rawType": "int64",
         "type": "integer"
        }
       ],
       "ref": "804fe00a-84dc-46e2-902b-24b78a2b1ac9",
       "rows": [
        [
         "Overall",
         "2065155"
        ],
        [
         "Women",
         "671875"
        ],
        [
         "Men",
         "667735"
        ]
       ],
       "shape": {
        "columns": 1,
        "rows": 3
       }
      },
      "text/plain": [
       "Sex\n",
       "Overall    2065155\n",
       "Women       671875\n",
       "Men         667735\n",
       "Name: count, dtype: int64"
      ]
     },
     "metadata": {},
     "output_type": "display_data"
    }
   ],
   "source": [
    "categorical_columns = df[['Year', 'State', 'CountyName', 'Category', 'State','Race','AgeGroup','Sex']].columns\n",
    "for col in categorical_columns:\n",
    "    print(f\"Unique values in '{col}'\")\n",
    "    display(df[col].value_counts())"
   ]
  }
 ],
 "metadata": {
  "kernelspec": {
   "display_name": "Python 3",
   "language": "python",
   "name": "python3"
  },
  "language_info": {
   "codemirror_mode": {
    "name": "ipython",
    "version": 3
   },
   "file_extension": ".py",
   "mimetype": "text/x-python",
   "name": "python",
   "nbconvert_exporter": "python",
   "pygments_lexer": "ipython3",
   "version": "3.13.3"
  }
 },
 "nbformat": 4,
 "nbformat_minor": 5
}
